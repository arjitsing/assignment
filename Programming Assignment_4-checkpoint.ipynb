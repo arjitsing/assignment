{
 "cells": [
  {
   "cell_type": "code",
   "execution_count": null,
   "metadata": {},
   "outputs": [],
   "source": [
    "Write a Python Program to Find the Factorial of a Number?\n",
    "n=int(input(\"enter a number:\"))\n",
    "fact=1\n",
    "for i in range(n,0,-1):\n",
    "    fact=fact*i\n",
    "print(f\"the factorial of {n} is {fact}\")\n",
    "    "
   ]
  },
  {
   "cell_type": "code",
   "execution_count": null,
   "metadata": {},
   "outputs": [],
   "source": [
    "Write a Python Program to Display the multiplication Table?\n",
    "n=int(input(\"enter a number:\"))\n",
    "print(\"the multiplication of\",n,\"is\") \n",
    "for i in range(1,11):\n",
    "    print(f\"{n}X{i}={n*i}\")"
   ]
  },
  {
   "cell_type": "code",
   "execution_count": null,
   "metadata": {},
   "outputs": [],
   "source": [
    "Write a Python Program to Print the Fibonacci sequence?\n",
    "n=int(input(\"enter a number:\"))\n",
    "for i in range(n:)\n",
    "    fib+=i\n",
    "    print(fib,end\"\")"
   ]
  },
  {
   "cell_type": "code",
   "execution_count": null,
   "metadata": {},
   "outputs": [],
   "source": [
    "Write a Python Program to Check Armstrong Number?\n",
    "n = input(\"enter a number:\")\n",
    "output = 0\n",
    "for i in n:\n",
    "    output = output+int(i)**len(n)\n",
    " \n",
    "    if output == int(n):\n",
    "        return(True,output)\n",
    "    else:\n",
    "        return(False)"
   ]
  },
  {
   "cell_type": "code",
   "execution_count": null,
   "metadata": {},
   "outputs": [],
   "source": [
    "Write a Python Program to Find Armstrong Number in an Interval?\n",
    "lower =int( input(\"enter a number:\"))\n",
    "upper = int(input(\"enter a number:\"))\n",
    "output = 0\n",
    "for i in range(lower,upper + 1):\n",
    "    for j in str(i):\n",
    "        output = output + int(j) ** len(str(i)) \n",
    "    if output == i:\n",
    "        print(\"yes it is an armstrong number\", output)"
   ]
  },
  {
   "cell_type": "code",
   "execution_count": null,
   "metadata": {},
   "outputs": [],
   "source": [
    "Write a Python Program to Find the Sum of Natural Numbers?\n",
    "n=int(input(\"enter a num\"))\n",
    "sum=0\n",
    "for i in range(n+1):\n",
    "    sum+=i\n",
    "print(sum)    "
   ]
  },
  {
   "cell_type": "code",
   "execution_count": null,
   "metadata": {},
   "outputs": [],
   "source": []
  }
 ],
 "metadata": {
  "kernelspec": {
   "display_name": "Python 3",
   "language": "python",
   "name": "python3"
  },
  "language_info": {
   "codemirror_mode": {
    "name": "ipython",
    "version": 3
   },
   "file_extension": ".py",
   "mimetype": "text/x-python",
   "name": "python",
   "nbconvert_exporter": "python",
   "pygments_lexer": "ipython3",
   "version": "3.8.5"
  }
 },
 "nbformat": 4,
 "nbformat_minor": 4
}
