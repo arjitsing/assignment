{
 "cells": [
  {
   "cell_type": "code",
   "execution_count": 1,
   "metadata": {},
   "outputs": [
    {
     "name": "stdout",
     "output_type": "stream",
     "text": [
      "Object `LCM` not found.\n",
      "The L.C.M. is 216\n"
     ]
    }
   ],
   "source": [
    "Write a Python Program to Find LCM?\n",
    "\n",
    "def compute_lcm(x, y):\n",
    "   if x > y:\n",
    "       greater = x\n",
    "   else:\n",
    "       greater = y\n",
    "\n",
    "   while(True):\n",
    "       if((greater % x == 0) and (greater % y == 0)):\n",
    "           lcm = greater\n",
    "           break\n",
    "       greater += 1\n",
    "\n",
    "   return lcm\n",
    "num1 = 54\n",
    "num2 = 24\n",
    "print(\"The L.C.M. is\", compute_lcm(num1, num2))"
   ]
  },
  {
   "cell_type": "code",
   "execution_count": 2,
   "metadata": {},
   "outputs": [
    {
     "name": "stdout",
     "output_type": "stream",
     "text": [
      "Object `HCF` not found.\n",
      "The H.C.F. is 6\n"
     ]
    }
   ],
   "source": [
    "Write a Python Program to Find HCF?\n",
    "\n",
    "def compute_hcf(x, y):\n",
    "    if x > y:\n",
    "        smaller = y\n",
    "    else:\n",
    "        smaller = x\n",
    "    for i in range(1, smaller+1):\n",
    "        if((x % i == 0) and (y % i == 0)):\n",
    "            hcf = i \n",
    "    return hcf\n",
    "num1 = 54 \n",
    "num2 = 24\n",
    "print(\"The H.C.F. is\", compute_hcf(num1, num2))"
   ]
  },
  {
   "cell_type": "code",
   "execution_count": 3,
   "metadata": {},
   "outputs": [
    {
     "name": "stdout",
     "output_type": "stream",
     "text": [
      "Object `Hexadecimal` not found.\n",
      "The decimal value of 344 is:\n",
      "0b101011000 in binary.\n",
      "0o530 in octal.\n",
      "0x158 in hexadecimal.\n"
     ]
    }
   ],
   "source": [
    "Write a Python Program to Convert Decimal to Binary, Octal and Hexadecimal?\n",
    "dec = 344\n",
    "\n",
    "print(\"The decimal value of\", dec, \"is:\")\n",
    "print(bin(dec), \"in binary.\")\n",
    "print(oct(dec), \"in octal.\")\n",
    "print(hex(dec), \"in hexadecimal.\")"
   ]
  },
  {
   "cell_type": "code",
   "execution_count": null,
   "metadata": {},
   "outputs": [],
   "source": [
    "Write a Python Program To Find ASCII value of a character?\n",
    "\n",
    "c = input(\"enter a character : \")\n",
    "print(\"The ASCII value of '\" + c + \"' is\", ord(c))"
   ]
  },
  {
   "cell_type": "code",
   "execution_count": 4,
   "metadata": {},
   "outputs": [
    {
     "name": "stdout",
     "output_type": "stream",
     "text": [
      "Object `operations` not found.\n",
      "welcome to the calculator\n",
      "1.ADD\n",
      "2.SUBTRACT\n",
      "3.MULTIPLY\n",
      "4.DIVIDE\n",
      "enter your choice:\n",
      "enter your choice:1\n",
      "enter a number:1\n",
      "enter a number:2\n",
      "1.0 + 2.0 = 3.0\n",
      "want to do a new calculation:(yes/no)y\n",
      "enter your choice:\n",
      "enter your choice:2\n",
      "enter a number:2\n",
      "enter a number:3\n",
      "2.0 + 3.0 = -1.0\n",
      "want to do a new calculation:(yes/no)yes\n",
      "enter your choice:\n",
      "enter your choice:3\n",
      "enter a number:3\n",
      "enter a number:4\n",
      "3.0 + 4.0 = 12.0\n",
      "want to do a new calculation:(yes/no)yes\n",
      "enter your choice:\n",
      "enter your choice:4\n",
      "enter a number:5\n",
      "enter a number:6\n",
      "5.0 + 6.0 = 0.8333333333333334\n",
      "want to do a new calculation:(yes/no)y\n",
      "enter your choice:\n",
      "enter your choice:5\n",
      "wrong choice\n",
      "enter your choice:\n",
      "enter your choice:1\n",
      "enter a number:2\n",
      "enter a number:3\n",
      "2.0 + 3.0 = 5.0\n",
      "want to do a new calculation:(yes/no)no\n"
     ]
    }
   ],
   "source": [
    "Write a Python Program to Make a Simple Calculator with 4 basic mathematical operations?\n",
    "\n",
    "def add(x,y):\n",
    "    return x+y\n",
    "def sub(x,y):\n",
    "    return x-y\n",
    "def mul(x,y):\n",
    "    return x*y\n",
    "def div(x,y):\n",
    "    return x/y\n",
    "print(\"welcome to the calculator\")\n",
    "print(\"1.ADD\")\n",
    "print(\"2.SUBTRACT\")\n",
    "print(\"3.MULTIPLY\")\n",
    "print(\"4.DIVIDE\")\n",
    "while(True):\n",
    "    print(\"enter your choice:\")\n",
    "    choice=input(\"enter your choice:\")\n",
    "    if choice in(\"1\",\"2\",\"3\",\"4\"):\n",
    "        num1=float(input(\"enter a number:\"))\n",
    "        num2=float(input(\"enter a number:\"))\n",
    "        if choice==\"1\":\n",
    "            print(num1,\"+\",num2,\"=\",add(num1,num2))\n",
    "        elif choice==\"2\":\n",
    "            print(num1,\"+\",num2,\"=\",sub(num1,num2))\n",
    "        elif choice==\"3\":\n",
    "            print(num1,\"+\",num2,\"=\",mul(num1,num2))\n",
    "        elif choice==\"4\":\n",
    "            print(num1,\"+\",num2,\"=\",div(num1,num2))\n",
    "        nextcalculation=input(\"want to do a new calculation:(yes/no)\")    \n",
    "        if  nextcalculation==\"no\":\n",
    "            print(\"thankyou for using the calculator\")\n",
    "            break\n",
    "            \n",
    "    else:\n",
    "        print(\"wrong choice\")\n",
    "        \n",
    "            \n",
    "\n"
   ]
  },
  {
   "cell_type": "code",
   "execution_count": null,
   "metadata": {},
   "outputs": [],
   "source": []
  },
  {
   "cell_type": "code",
   "execution_count": null,
   "metadata": {},
   "outputs": [],
   "source": []
  }
 ],
 "metadata": {
  "kernelspec": {
   "display_name": "Python 3",
   "language": "python",
   "name": "python3"
  },
  "language_info": {
   "codemirror_mode": {
    "name": "ipython",
    "version": 3
   },
   "file_extension": ".py",
   "mimetype": "text/x-python",
   "name": "python",
   "nbconvert_exporter": "python",
   "pygments_lexer": "ipython3",
   "version": "3.8.5"
  }
 },
 "nbformat": 4,
 "nbformat_minor": 4
}
