{
 "cells": [
  {
   "cell_type": "code",
   "execution_count": 8,
   "metadata": {},
   "outputs": [
    {
     "name": "stdout",
     "output_type": "stream",
     "text": [
      "Object `Recursion` not found.\n"
     ]
    },
    {
     "data": {
      "text/plain": [
       "120"
      ]
     },
     "execution_count": 8,
     "metadata": {},
     "output_type": "execute_result"
    }
   ],
   "source": [
    "Write a Python Program to Find Factorial of Number Using Recursion?\n",
    "def recur_factorial(n):\n",
    "    if n == 1:\n",
    "        return n\n",
    "    else:\n",
    "        return n*recur_factorial(n-1)\n",
    "recur_factorial(5)    "
   ]
  },
  {
   "cell_type": "code",
   "execution_count": 9,
   "metadata": {},
   "outputs": [
    {
     "name": "stdout",
     "output_type": "stream",
     "text": [
      "Object `Recursion` not found.\n"
     ]
    },
    {
     "data": {
      "text/plain": [
       "15"
      ]
     },
     "execution_count": 9,
     "metadata": {},
     "output_type": "execute_result"
    }
   ],
   "source": [
    "Write a Python Program to Display Fibonacci Sequence Using Recursion?\n",
    "def recur_fibonacci(n):\n",
    "    if n==0:\n",
    "        return n\n",
    "    else:\n",
    "        return n+recur_fibonacci(n-1)\n",
    "recur_fibonacci(5)"
   ]
  },
  {
   "cell_type": "code",
   "execution_count": 11,
   "metadata": {},
   "outputs": [
    {
     "name": "stdout",
     "output_type": "stream",
     "text": [
      "Object `Index` not found.\n",
      "enter your height in cms183\n",
      "enter your weight in kgs83\n",
      "your body mass index is 24.78425751739377\n"
     ]
    }
   ],
   "source": [
    "Write a Python Program to calculate your Body Mass Index?\n",
    "height=int((input(\"enter your height in cms\")))\n",
    "height=height/100\n",
    "weight=int((input(\"enter your weight in kgs\")))\n",
    "\n",
    "BMI=weight/height**2\n",
    "print(\"your body mass index is\",BMI)"
   ]
  },
  {
   "cell_type": "code",
   "execution_count": 12,
   "metadata": {},
   "outputs": [
    {
     "name": "stdout",
     "output_type": "stream",
     "text": [
      "Object `number` not found.\n",
      "Enter the number: 10\n",
      "The value is: 2.302585092994046\n"
     ]
    }
   ],
   "source": [
    "Write a Python Program to calculate the natural logarithm of any number?\n",
    "import math\n",
    "\n",
    "number = int(input(\"Enter the number: \"))\n",
    "ans = math.log(number)\n",
    "print(\"The value is:\",ans)"
   ]
  },
  {
   "cell_type": "code",
   "execution_count": 21,
   "metadata": {},
   "outputs": [
    {
     "name": "stdout",
     "output_type": "stream",
     "text": [
      "Enter the number: 5\n",
      "the cubesum of first n natural number is: 225\n"
     ]
    }
   ],
   "source": [
    "n = int(input(\"Enter the number: \"))\n",
    "cubesum=0\n",
    "for i in range(n+1):\n",
    "    cubesum+=(i**3)\n",
    "print(\"the cubesum of first n natural number is:\",cubesum)    "
   ]
  },
  {
   "cell_type": "code",
   "execution_count": null,
   "metadata": {},
   "outputs": [],
   "source": []
  },
  {
   "cell_type": "code",
   "execution_count": null,
   "metadata": {},
   "outputs": [],
   "source": []
  }
 ],
 "metadata": {
  "kernelspec": {
   "display_name": "Python 3",
   "language": "python",
   "name": "python3"
  },
  "language_info": {
   "codemirror_mode": {
    "name": "ipython",
    "version": 3
   },
   "file_extension": ".py",
   "mimetype": "text/x-python",
   "name": "python",
   "nbconvert_exporter": "python",
   "pygments_lexer": "ipython3",
   "version": "3.8.5"
  }
 },
 "nbformat": 4,
 "nbformat_minor": 4
}
