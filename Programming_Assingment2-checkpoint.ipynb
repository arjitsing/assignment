{
 "cells": [
  {
   "cell_type": "code",
   "execution_count": 2,
   "metadata": {},
   "outputs": [
    {
     "name": "stdout",
     "output_type": "stream",
     "text": [
      "Object `miles` not found.\n",
      "enter a number : 6\n",
      "converted miles are : 9.600000000000001\n"
     ]
    }
   ],
   "source": [
    "Write a Python program to convert kilometers to miles?\n",
    "kilometer=int(input(\"enter a number : \"))\n",
    "miles=kilometer*1.6\n",
    "print(\"converted miles are :\",miles)"
   ]
  },
  {
   "cell_type": "code",
   "execution_count": 3,
   "metadata": {},
   "outputs": [
    {
     "name": "stdout",
     "output_type": "stream",
     "text": [
      "Object `Fahrenheit` not found.\n",
      "enter a number : 0\n",
      "the temp in fahrenheit is: 32.0\n"
     ]
    }
   ],
   "source": [
    "Write a Python program to convert Celsius to Fahrenheit?\n",
    "celcius=int(input(\"enter a number : \"))\n",
    "print(\"the temp in fahrenheit is:\",(celcius*(9/5))+32)"
   ]
  },
  {
   "cell_type": "code",
   "execution_count": 4,
   "metadata": {},
   "outputs": [
    {
     "name": "stdout",
     "output_type": "stream",
     "text": [
      "Object `calendar` not found.\n",
      "enter a number : 2014\n",
      "enter a number : 6\n",
      "     June 2014\n",
      "Mo Tu We Th Fr Sa Su\n",
      "                   1\n",
      " 2  3  4  5  6  7  8\n",
      " 9 10 11 12 13 14 15\n",
      "16 17 18 19 20 21 22\n",
      "23 24 25 26 27 28 29\n",
      "30\n",
      "\n"
     ]
    }
   ],
   "source": [
    "Write a Python program to display calendar?\n",
    "import calendar\n",
    "yy=int(input(\"enter a number : \"))\n",
    "mm=int(input(\"enter a number : \"))\n",
    "\n",
    "print(calendar.month(yy, mm))"
   ]
  },
  {
   "cell_type": "code",
   "execution_count": 13,
   "metadata": {},
   "outputs": [
    {
     "name": "stdout",
     "output_type": "stream",
     "text": [
      "Object `equation` not found.\n",
      "enter a number : 1\n",
      "enter a number : 2\n",
      "enter a number : 3\n",
      "the roots are (-2+1.4142135623730951j) & (-2-1.4142135623730951j)\n"
     ]
    }
   ],
   "source": [
    "Write a Python program to solve quadratic equation?\n",
    "import cmath\n",
    "a=int(input(\"enter a number : \"))\n",
    "b=int(input(\"enter a number : \"))\n",
    "c=int(input(\"enter a number : \"))\n",
    "\n",
    "d=(b**2) - (4*a*c)\n",
    "\n",
    "root1=((-b+cmath.sqrt(d)/2*a))\n",
    "root2=((-b-cmath.sqrt(d)/2*a))\n",
    "print(f\"the roots are {root1} & {root2}\")"
   ]
  },
  {
   "cell_type": "code",
   "execution_count": 16,
   "metadata": {},
   "outputs": [
    {
     "name": "stdout",
     "output_type": "stream",
     "text": [
      "Object `variable` not found.\n",
      "7 5\n"
     ]
    }
   ],
   "source": [
    "Write a Python program to swap two variables without temp variable?\n",
    "a=5\n",
    "b=7\n",
    "a=a+b\n",
    "b=a-b\n",
    "a=a-b\n",
    "print(a,b)"
   ]
  },
  {
   "cell_type": "code",
   "execution_count": null,
   "metadata": {},
   "outputs": [],
   "source": []
  }
 ],
 "metadata": {
  "kernelspec": {
   "display_name": "Python 3",
   "language": "python",
   "name": "python3"
  },
  "language_info": {
   "codemirror_mode": {
    "name": "ipython",
    "version": 3
   },
   "file_extension": ".py",
   "mimetype": "text/x-python",
   "name": "python",
   "nbconvert_exporter": "python",
   "pygments_lexer": "ipython3",
   "version": "3.8.5"
  }
 },
 "nbformat": 4,
 "nbformat_minor": 4
}
