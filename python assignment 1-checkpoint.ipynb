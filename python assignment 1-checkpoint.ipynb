{
 "cells": [
  {
   "cell_type": "markdown",
   "metadata": {},
   "source": [
    "1. In the below elements which of them are values or an expression? eg:- values can be integer or string and expressions will be mathematical operators.\n",
    "* \n",
    "'hello'\n",
    "-87.8\n",
    "- \n",
    "/ \n",
    "6 \n",
    "\n",
    "Answer:\n",
    "1>  * is a expression\n",
    "2>  'hello' is a value as it is a string\n",
    "3>  - is a expression\n",
    "4>  / is a expression\n",
    "5>  6 is a value as it is a integer\n"
   ]
  },
  {
   "cell_type": "markdown",
   "metadata": {},
   "source": [
    "2. What is the difference between string and variable?\n",
    "Answer:\n",
    "    The difference between a string and a variable is that a variable is a store of information, and a String is a type of information you would store in a Variable. A String is usually words and itegers within double quotes."
   ]
  },
  {
   "cell_type": "markdown",
   "metadata": {},
   "source": [
    "3. Describe three different data types.\n",
    "Answer:\n",
    "    the three different are\n",
    "    1> int -- it stores a integer value\n",
    "    2> string--it is a variable that stores information.A String is usually words and itegers within double quotes\n",
    "    3> list-- it is also a variable that stores information.a list generally stores differnet kind of datatypes such as \n",
    "    int ,string ,list etc"
   ]
  },
  {
   "cell_type": "markdown",
   "metadata": {},
   "source": [
    "4. What is an expression made up of? What do all expressions do?\n",
    "Answer:\n",
    "    An expression is a combination of values, variables, operators, and calls to functions.\n",
    "Expressions need to be evaluated. If you ask Python to print an expression,\n",
    "the interpreter evaluates the expression and displays the result."
   ]
  },
  {
   "cell_type": "markdown",
   "metadata": {},
   "source": [
    "5. This assignment statements, like spam = 10. What is the difference between an expression and a statement?\n",
    "Answer:\n",
    "     Statements Do Something and are often composed of expressions (or other statements)\n",
    "The distinction of \"Statements do something\" and \"expressions produce a value\" .\n",
    "ex-The if is usually a statement, such as \n",
    "if x<0: x=0 but you can also have a expression \n",
    "    like \n",
    "    x=0 if x<0 else 1 "
   ]
  },
  {
   "cell_type": "markdown",
   "metadata": {},
   "source": [
    "6. After running the following code, what does the variable bacon contain?\n",
    "bacon = 22\n",
    "bacon + 1\n",
    "Answer:\n",
    "    the variable bacon will still contain 22 as 1 is only being added to bacon "
   ]
  },
  {
   "cell_type": "code",
   "execution_count": 7,
   "metadata": {},
   "outputs": [
    {
     "data": {
      "text/plain": [
       "22"
      ]
     },
     "execution_count": 7,
     "metadata": {},
     "output_type": "execute_result"
    }
   ],
   "source": [
    "bacon = 22\n",
    "bacon + 1\n",
    "bacon"
   ]
  },
  {
   "cell_type": "code",
   "execution_count": null,
   "metadata": {},
   "outputs": [],
   "source": [
    "# 7. What should the values of the following two terms be?\n",
    "'spam' + 'spamspam'\n",
    "# 'spam' * 3\n",
    "Answer:\n",
    "    both the input will give out the same output which is 'spamspamspam'\n",
    "    the only difference is that the 1st statement does concatenation\n",
    "    and the 2nd statement multiplies the string three times\n",
    "\n"
   ]
  },
  {
   "cell_type": "markdown",
   "metadata": {},
   "source": [
    "8. Why is eggs a valid variable name while 100 is invalid?\n",
    "Answer:\n",
    "    eggs is a valid vaiable name because a variable name can start with a character \n",
    "    and the reason 100 is that a variable name cannot start with a numeric value"
   ]
  }
 ],
 "metadata": {
  "kernelspec": {
   "display_name": "Python 3",
   "language": "python",
   "name": "python3"
  },
  "language_info": {
   "codemirror_mode": {
    "name": "ipython",
    "version": 3
   },
   "file_extension": ".py",
   "mimetype": "text/x-python",
   "name": "python",
   "nbconvert_exporter": "python",
   "pygments_lexer": "ipython3",
   "version": "3.8.5"
  }
 },
 "nbformat": 4,
 "nbformat_minor": 4
}
