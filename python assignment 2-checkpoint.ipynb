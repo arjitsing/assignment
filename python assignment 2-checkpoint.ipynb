{
 "cells": [
  {
   "cell_type": "code",
   "execution_count": null,
   "metadata": {},
   "outputs": [],
   "source": [
    "1.What are the two values of the Boolean data type? How do you write them?\n",
    "\n",
    "The two values of boolean data type are True and False.\n",
    "we write them as True and False"
   ]
  },
  {
   "cell_type": "code",
   "execution_count": null,
   "metadata": {},
   "outputs": [],
   "source": [
    "2. What are the three different types of Boolean operators?\n",
    "\n",
    "The three different boolean operator are and , or & not"
   ]
  },
  {
   "cell_type": "code",
   "execution_count": null,
   "metadata": {},
   "outputs": [],
   "source": [
    "3. Make a list of each Boolean operator's truth tables (i.e. every possible combination of Boolean values for the operator and what it evaluate ).\n",
    "\n",
    "condition 1(e.g., X)\tcondition 2(e.g., Y)\tNOT X( ~ X )\tX AND Y( X && Y )\tX OR Y( X || Y )\n",
    "false\tfalse\ttrue\tfalse\tfalse\n",
    "false\ttrue\ttrue\tfalse\ttrue\n",
    "true\tfalse\tfalse\tfalse\ttrue\n",
    "true\ttrue\tfalse\ttrue\ttrue\n",
    "  "
   ]
  },
  {
   "cell_type": "code",
   "execution_count": null,
   "metadata": {},
   "outputs": [],
   "source": [
    "4. What are the values of the following expressions?\n",
    "(5 > 4) and (3 == 5)\n",
    "not (5 > 4)\n",
    "(5 > 4) or (3 == 5)\n",
    "not ((5 > 4) or (3 == 5))\n",
    "(True and True) and (True == False)\n",
    "(not False) or (not True)\n",
    "\n",
    "1.-False\n",
    "2.-1.0\n",
    "3.-True\n",
    "4.-False\n",
    "5.-False\n",
    "6.-True"
   ]
  },
  {
   "cell_type": "code",
   "execution_count": null,
   "metadata": {},
   "outputs": [],
   "source": [
    "5. What are the six comparison operators?\n",
    "1 ==\n",
    "2 >\n",
    "3 <\n",
    "4 !=\n",
    "5 >=\n",
    "6 <="
   ]
  },
  {
   "cell_type": "code",
   "execution_count": null,
   "metadata": {},
   "outputs": [],
   "source": [
    "How do you tell the difference between the equal to and assignment operators?Describe a condition and when you would use one.\n",
    "equal to(==) operator is used to compare two variables\n",
    "whereas assignment operator(=) is used to assign a value to a variable\n",
    "ex:\n",
    "assignment operator\n",
    "a=2\n",
    "equal to operator\n",
    "if a==5:"
   ]
  },
  {
   "cell_type": "code",
   "execution_count": null,
   "metadata": {},
   "outputs": [],
   "source": [
    "7. Identify the three blocks in this code:\n",
    "spam = 0\n",
    "if spam == 10:\n",
    "    print('eggs')\n",
    "if spam > 5:\n",
    "    print('bacon')\n",
    "else:\n",
    "    print('ham')\n",
    "    print('spam')\n",
    "    print('spam')\n",
    "in this code we first initialize our variable spam to 0\n",
    "then we check wether spam == 10\n",
    "if ye then print yes\n",
    "again we check if spam >5\n",
    "if yes print bacon\n",
    "else we print our else statrements \n",
    "then output will be: \n",
    "ham \n",
    "spam\n",
    "spam"
   ]
  },
  {
   "cell_type": "code",
   "execution_count": 16,
   "metadata": {},
   "outputs": [
    {
     "name": "stdout",
     "output_type": "stream",
     "text": [
      "greetings\n"
     ]
    }
   ],
   "source": [
    "8. Write code that prints Hello if 1 is stored in spam, prints Howdy if 2 is stored in spam, and prints Greetings! if anything else is stored in spam.\n",
    "\n",
    "spam = 0\n",
    "if spam == 1:\n",
    "    print(\"hello\")\n",
    "elif spam == 2:\n",
    "    print(\"howdy\")\n",
    "else:\n",
    "    print(\"greetings\")"
   ]
  },
  {
   "cell_type": "code",
   "execution_count": null,
   "metadata": {},
   "outputs": [],
   "source": [
    "9.If your programme is stuck in an endless loop, what keys you’ll press?\n",
    " \n",
    "To exit out of infinite loops on the command line, press CTRL + C .\n"
   ]
  },
  {
   "cell_type": "code",
   "execution_count": null,
   "metadata": {},
   "outputs": [],
   "source": [
    "10. How can you tell the difference between break and continue?\n",
    "Break:\n",
    "The Python break statement stops the loop in which the statement is placed. When a break statement is executed,\n",
    "the statements after the contents of the loop are executed\n",
    "A break statement can be placed inside a nested loop. If a break statement appears in a nested loop,\n",
    "only the inner loop will stop executing. The outer loop will continue to execute until all iterations have occurred,\n",
    "or until the outer loop is broken using a break statement.\n",
    "Continue:\n",
    "The continue statement instructs a loop to continue to the next iteration. \n",
    "Any code that follows the continue statement is not executed. Unlike a break statement,\n",
    "a continue statement does not completely halt a loop.\n",
    "You can use a continue statement in Python to skip over part of a loop when a condition is met. \n",
    "Then, the rest of a loop will continue running. You use continue statements within loops, usually after an if statement."
   ]
  },
  {
   "cell_type": "code",
   "execution_count": null,
   "metadata": {},
   "outputs": [],
   "source": [
    "11. In a for loop, what is the difference between range(10), range(0, 10), and range(0, 10, 1)?\n",
    "\n",
    "there is no differnce between the three\n",
    "range(10) will go from 0-9\n",
    "range(0,10)will also go from 0-9\n",
    "range(0,10,1)will also go from 0-9 with step size 1"
   ]
  },
  {
   "cell_type": "code",
   "execution_count": null,
   "metadata": {},
   "outputs": [],
   "source": [
    "12. Write a short program that prints the numbers 1 to 10 using a for loop. \n",
    "Then write an equivalent program that prints the numbers 1 to 10 using a while loop.\n",
    "\n",
    "using for loop:\n",
    "    for i in range(10):\n",
    "        print(i)\n",
    "using while loop:\n",
    "    i=0\n",
    "    while(i<10)\n",
    "            print(i)\n",
    "    i+=1    "
   ]
  },
  {
   "cell_type": "code",
   "execution_count": null,
   "metadata": {},
   "outputs": [],
   "source": [
    "13. If you had a function named bacon() inside a module named spam, how would you call it after importing spam?\n",
    "\n",
    "from spam import bacon"
   ]
  }
 ],
 "metadata": {
  "kernelspec": {
   "display_name": "Python 3",
   "language": "python",
   "name": "python3"
  },
  "language_info": {
   "codemirror_mode": {
    "name": "ipython",
    "version": 3
   },
   "file_extension": ".py",
   "mimetype": "text/x-python",
   "name": "python",
   "nbconvert_exporter": "python",
   "pygments_lexer": "ipython3",
   "version": "3.8.5"
  }
 },
 "nbformat": 4,
 "nbformat_minor": 4
}
